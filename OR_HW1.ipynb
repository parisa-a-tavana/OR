{
  "nbformat": 4,
  "nbformat_minor": 0,
  "metadata": {
    "colab": {
      "provenance": []
    },
    "kernelspec": {
      "name": "python3",
      "display_name": "Python 3"
    },
    "language_info": {
      "name": "python"
    }
  },
  "cells": [
    {
      "cell_type": "code",
      "execution_count": null,
      "metadata": {
        "colab": {
          "base_uri": "https://localhost:8080/"
        },
        "id": "_BWQKgJwd9yo",
        "outputId": "7bd45bbf-343f-4b96-b472-ca0e4918e21a"
      },
      "outputs": [
        {
          "output_type": "stream",
          "name": "stdout",
          "text": [
            "Looking in indexes: https://pypi.org/simple, https://us-python.pkg.dev/colab-wheels/public/simple/\n",
            "Collecting pyomo\n",
            "  Downloading Pyomo-6.4.2-cp37-cp37m-manylinux_2_12_x86_64.manylinux2010_x86_64.whl (9.7 MB)\n",
            "\u001b[K     |████████████████████████████████| 9.7 MB 24.1 MB/s \n",
            "\u001b[?25hCollecting ply\n",
            "  Downloading ply-3.11-py2.py3-none-any.whl (49 kB)\n",
            "\u001b[K     |████████████████████████████████| 49 kB 5.1 MB/s \n",
            "\u001b[?25hInstalling collected packages: ply, pyomo\n",
            "Successfully installed ply-3.11 pyomo-6.4.2\n"
          ]
        }
      ],
      "source": [
        "!pip install pyomo"
      ]
    },
    {
      "cell_type": "code",
      "source": [
        "!apt-get install -y -qq glpk-utils"
      ],
      "metadata": {
        "colab": {
          "base_uri": "https://localhost:8080/"
        },
        "id": "AGZBybs9e96O",
        "outputId": "cf630ed6-0baf-4978-c558-b91faaea99a8"
      },
      "execution_count": null,
      "outputs": [
        {
          "output_type": "stream",
          "name": "stdout",
          "text": [
            "Selecting previously unselected package libsuitesparseconfig5:amd64.\n",
            "(Reading database ... 123942 files and directories currently installed.)\n",
            "Preparing to unpack .../libsuitesparseconfig5_1%3a5.1.2-2_amd64.deb ...\n",
            "Unpacking libsuitesparseconfig5:amd64 (1:5.1.2-2) ...\n",
            "Selecting previously unselected package libamd2:amd64.\n",
            "Preparing to unpack .../libamd2_1%3a5.1.2-2_amd64.deb ...\n",
            "Unpacking libamd2:amd64 (1:5.1.2-2) ...\n",
            "Selecting previously unselected package libcolamd2:amd64.\n",
            "Preparing to unpack .../libcolamd2_1%3a5.1.2-2_amd64.deb ...\n",
            "Unpacking libcolamd2:amd64 (1:5.1.2-2) ...\n",
            "Selecting previously unselected package libglpk40:amd64.\n",
            "Preparing to unpack .../libglpk40_4.65-1_amd64.deb ...\n",
            "Unpacking libglpk40:amd64 (4.65-1) ...\n",
            "Selecting previously unselected package glpk-utils.\n",
            "Preparing to unpack .../glpk-utils_4.65-1_amd64.deb ...\n",
            "Unpacking glpk-utils (4.65-1) ...\n",
            "Setting up libsuitesparseconfig5:amd64 (1:5.1.2-2) ...\n",
            "Setting up libcolamd2:amd64 (1:5.1.2-2) ...\n",
            "Setting up libamd2:amd64 (1:5.1.2-2) ...\n",
            "Setting up libglpk40:amd64 (4.65-1) ...\n",
            "Setting up glpk-utils (4.65-1) ...\n",
            "Processing triggers for libc-bin (2.27-3ubuntu1.6) ...\n",
            "Processing triggers for man-db (2.8.3-2ubuntu0.1) ...\n"
          ]
        }
      ]
    },
    {
      "cell_type": "code",
      "source": [
        "import pyomo.environ as pyo\n",
        "from pyomo.environ import *\n",
        "from pyomo.opt import SolverFactory"
      ],
      "metadata": {
        "id": "fD3mujUSfmK2"
      },
      "execution_count": null,
      "outputs": []
    },
    {
      "cell_type": "markdown",
      "source": [
        "## Q2"
      ],
      "metadata": {
        "id": "_yHtPH16wWG-"
      }
    },
    {
      "cell_type": "markdown",
      "source": [
        "we define x1 and x2 contribution to the first and second company"
      ],
      "metadata": {
        "id": "xYl8-PpPx10J"
      }
    },
    {
      "cell_type": "code",
      "source": [
        "model=pyo.ConcreteModel()\n",
        "model.x1=pyo.Var(bounds=(0,1))\n",
        "x1=model.x1\n",
        "model.x2=pyo.Var(bounds=(0,1))\n",
        "x2=model.x2"
      ],
      "metadata": {
        "id": "eOCEubumfwZi"
      },
      "execution_count": null,
      "outputs": []
    },
    {
      "cell_type": "markdown",
      "source": [
        "we define the constrains based on the problem"
      ],
      "metadata": {
        "id": "gYB3gm-vx_Wg"
      }
    },
    {
      "cell_type": "code",
      "source": [
        "model.c1=pyo.Constraint(expr= 400*x1 +500*x2 <=600)\n",
        "model.c3=pyo.Constraint(expr= 400*x1 +500*x2>=0)\n",
        "model.c2=pyo.Constraint(expr= 5000*x1 +4000*x2 <=6000)\n",
        "model.c4=pyo.Constraint(expr= 5000*x1 +4000*x2>=0)"
      ],
      "metadata": {
        "id": "k2mcBPubhPb2"
      },
      "execution_count": null,
      "outputs": []
    },
    {
      "cell_type": "markdown",
      "source": [
        "we define the objective function and solve the problem"
      ],
      "metadata": {
        "id": "CeFdxWliyG1N"
      }
    },
    {
      "cell_type": "code",
      "source": [
        "model.obj=pyo.Objective(expr=4500*(x1+x2), sense=maximize)\n",
        "j=model.obj\n",
        "opt=SolverFactory('glpk')\n",
        "opt.solve(model)\n"
      ],
      "metadata": {
        "colab": {
          "base_uri": "https://localhost:8080/"
        },
        "id": "QRLVjkKPjRvI",
        "outputId": "fdb90576-b9c9-4d91-83ff-c647104d0fd9"
      },
      "execution_count": null,
      "outputs": [
        {
          "output_type": "stream",
          "name": "stderr",
          "text": [
            "WARNING:pyomo.core:Implicitly replacing the Component attribute obj (type=<class 'pyomo.core.base.objective.ScalarObjective'>) on block unknown with a new Component (type=<class 'pyomo.core.base.objective.ScalarObjective'>).\n",
            "This is usually indicative of a modelling error.\n",
            "To avoid this warning, use block.del_component() and block.add_component().\n"
          ]
        },
        {
          "output_type": "execute_result",
          "data": {
            "text/plain": [
              "{'Problem': [{'Name': 'unknown', 'Lower bound': 6000.0, 'Upper bound': 6000.0, 'Number of objectives': 1, 'Number of constraints': 5, 'Number of variables': 3, 'Number of nonzeros': 9, 'Sense': 'maximize'}], 'Solver': [{'Status': 'ok', 'Termination condition': 'optimal', 'Statistics': {'Branch and bound': {'Number of bounded subproblems': 0, 'Number of created subproblems': 0}}, 'Error rc': 0, 'Time': 0.016882896423339844}], 'Solution': [OrderedDict([('number of solutions', 0), ('number of solutions displayed', 0)])]}"
            ]
          },
          "metadata": {},
          "execution_count": 62
        }
      ]
    },
    {
      "cell_type": "code",
      "source": [
        "print(\"optimal contribution to the first company:  \"+str(pyo.value(x1)))\n",
        "print(\"optimal contribution to the second company:  \"+str(pyo.value(x2)))\n",
        "print(\"maximum profit: \"+ str(pyo.value(j)))\n"
      ],
      "metadata": {
        "colab": {
          "base_uri": "https://localhost:8080/"
        },
        "id": "KLpqfvmhwnr3",
        "outputId": "5b5c50ba-52a9-4ff6-8bf1-21db61393a19"
      },
      "execution_count": null,
      "outputs": [
        {
          "output_type": "stream",
          "name": "stdout",
          "text": [
            "optimal contribution to the first company:  0.666666666666667\n",
            "optimal contribution to the second company:  0.666666666666666\n",
            "maximum profit: 5999.999999999999\n"
          ]
        }
      ]
    },
    {
      "cell_type": "markdown",
      "source": [
        "## Q5"
      ],
      "metadata": {
        "id": "umgPAET6qAKL"
      }
    },
    {
      "cell_type": "markdown",
      "source": [
        "we define our variables"
      ],
      "metadata": {
        "id": "Q-BB0IHHqFOJ"
      }
    },
    {
      "cell_type": "code",
      "source": [
        "model=pyo.ConcreteModel()\n",
        "model.x=pyo.Var()\n",
        "x=model.x\n",
        "model.y=pyo.Var()\n",
        "y=model.y"
      ],
      "metadata": {
        "id": "TUgn8HHqjaQn"
      },
      "execution_count": null,
      "outputs": []
    },
    {
      "cell_type": "markdown",
      "source": [
        "we define the triangle sides and the problem constrains based on the the fact that all sides are positive and the triangle inequality: for any triangle, the sum of the lengths of any two sides must be greater than or equal to the length of the remaining side."
      ],
      "metadata": {
        "id": "KZ_AheEBqLzz"
      }
    },
    {
      "cell_type": "code",
      "source": [
        "A=(8-x-0.5*y)\n",
        "B=(7+x-1.5*y)\n",
        "C=(1+x)\n",
        "perimiter=A+B+C"
      ],
      "metadata": {
        "id": "X463s-JJpBMF"
      },
      "execution_count": null,
      "outputs": []
    },
    {
      "cell_type": "code",
      "source": [
        "model.c1=pyo.Constraint(expr= A+B >=C)\n",
        "model.c2=pyo.Constraint(expr= B+C >=A)\n",
        "model.c3=pyo.Constraint(expr= C+A >=B)\n",
        "model.c4=pyo.Constraint(expr= A >=0)\n",
        "model.c5=pyo.Constraint(expr= B >=0)\n",
        "model.c6=pyo.Constraint(expr= C >=0)\n"
      ],
      "metadata": {
        "id": "6RdRcBFlmDN4"
      },
      "execution_count": null,
      "outputs": []
    },
    {
      "cell_type": "markdown",
      "source": [
        "1)"
      ],
      "metadata": {
        "id": "Ns5qaPJayXHy"
      }
    },
    {
      "cell_type": "markdown",
      "source": [
        "we set the traingle perimiter as the objective function (here we want to maximize it) and solve the problem"
      ],
      "metadata": {
        "id": "n6ctEk1xyVEZ"
      }
    },
    {
      "cell_type": "code",
      "source": [
        "model.obj=pyo.Objective(expr=perimiter, sense=maximize)\n",
        "j=model.obj\n",
        "opt=SolverFactory('glpk')\n",
        "opt.solve(model)\n"
      ],
      "metadata": {
        "colab": {
          "base_uri": "https://localhost:8080/"
        },
        "id": "RvxESdCnnJyM",
        "outputId": "aabaec40-2801-480d-9f54-5c41e3f0e088"
      },
      "execution_count": null,
      "outputs": [
        {
          "output_type": "execute_result",
          "data": {
            "text/plain": [
              "{'Problem': [{'Name': 'unknown', 'Lower bound': 21.0, 'Upper bound': 21.0, 'Number of objectives': 1, 'Number of constraints': 7, 'Number of variables': 3, 'Number of nonzeros': 12, 'Sense': 'maximize'}], 'Solver': [{'Status': 'ok', 'Termination condition': 'optimal', 'Statistics': {'Branch and bound': {'Number of bounded subproblems': 0, 'Number of created subproblems': 0}}, 'Error rc': 0, 'Time': 0.016144275665283203}], 'Solution': [OrderedDict([('number of solutions', 0), ('number of solutions displayed', 0)])]}"
            ]
          },
          "metadata": {},
          "execution_count": 67
        }
      ]
    },
    {
      "cell_type": "code",
      "source": [
        "x_opt=pyo.value(x)\n",
        "y_opt=pyo.value(y)\n",
        "j_opt=pyo.value(j)\n",
        "A_opt=(8-x_opt-0.5*y_opt)\n",
        "B_opt=(7+x_opt-1.5*y_opt)\n",
        "C_opt=(1+x_opt)\n",
        "print(\"x optimum: \"+str(x_opt) )\n",
        "print(\"y optimum: \"+str(y_opt) )\n",
        "print(\"A optimum: \"+str(A_opt) )\n",
        "print(\"B optimum: \"+str(B_opt) )\n",
        "print(\"C optimum: \"+str(C_opt) )\n",
        "print(\"maximum perimeter of the traingle: \"+str(j_opt) )\n"
      ],
      "metadata": {
        "colab": {
          "base_uri": "https://localhost:8080/"
        },
        "id": "7mJNwUUcn2qx",
        "outputId": "d043b959-5c71-4c50-e6ff-1eb332e72dfb"
      },
      "execution_count": null,
      "outputs": [
        {
          "output_type": "stream",
          "name": "stdout",
          "text": [
            "x optimum: -1.0\n",
            "y optimum: -3.0\n",
            "A optimum: 10.5\n",
            "B optimum: 10.5\n",
            "C optimum: 0.0\n",
            "maximum perimeter of the traingle: 21.0\n"
          ]
        }
      ]
    },
    {
      "cell_type": "markdown",
      "source": [
        "**2)**"
      ],
      "metadata": {
        "id": "wVV8H4KcyvnK"
      }
    },
    {
      "cell_type": "markdown",
      "source": [
        "we set the traingle perimiter as the objective function (here we want to minimize it) and solve the problem"
      ],
      "metadata": {
        "id": "NNyj4cQrywGG"
      }
    },
    {
      "cell_type": "code",
      "source": [
        "model.obj=pyo.Objective(expr=perimiter, sense=minimize)\n",
        "j=model.obj\n",
        "opt=SolverFactory('glpk')\n",
        "opt.solve(model)\n"
      ],
      "metadata": {
        "colab": {
          "base_uri": "https://localhost:8080/"
        },
        "id": "VjXtxVytsdfu",
        "outputId": "4e5b1a21-efbf-47f4-d8c5-231e14ed6da3"
      },
      "execution_count": null,
      "outputs": [
        {
          "output_type": "stream",
          "name": "stderr",
          "text": [
            "WARNING:pyomo.core:Implicitly replacing the Component attribute obj (type=<class 'pyomo.core.base.objective.ScalarObjective'>) on block unknown with a new Component (type=<class 'pyomo.core.base.objective.ScalarObjective'>).\n",
            "This is usually indicative of a modelling error.\n",
            "To avoid this warning, use block.del_component() and block.add_component().\n"
          ]
        },
        {
          "output_type": "execute_result",
          "data": {
            "text/plain": [
              "{'Problem': [{'Name': 'unknown', 'Lower bound': 6.0, 'Upper bound': 6.0, 'Number of objectives': 1, 'Number of constraints': 7, 'Number of variables': 3, 'Number of nonzeros': 12, 'Sense': 'minimize'}], 'Solver': [{'Status': 'ok', 'Termination condition': 'optimal', 'Statistics': {'Branch and bound': {'Number of bounded subproblems': 0, 'Number of created subproblems': 0}}, 'Error rc': 0, 'Time': 0.01263570785522461}], 'Solution': [OrderedDict([('number of solutions', 0), ('number of solutions displayed', 0)])]}"
            ]
          },
          "metadata": {},
          "execution_count": 70
        }
      ]
    },
    {
      "cell_type": "code",
      "source": [
        "x_opt=pyo.value(x)\n",
        "y_opt=pyo.value(y)\n",
        "j_opt=pyo.value(j)\n",
        "A_opt=(8-x_opt-0.5*y_opt)\n",
        "B_opt=(7+x_opt-1.5*y_opt)\n",
        "C_opt=(1+x_opt)\n",
        "print(\"x optimum: \"+str(x_opt) )\n",
        "print(\"y optimum: \"+str(y_opt) )\n",
        "print(\"A optimum: \"+str(A_opt) )\n",
        "print(\"B optimum: \"+str(B_opt) )\n",
        "print(\"C optimum: \"+str(C_opt) )\n",
        "print(\"maximum perimeter of the traingle: \"+str(j_opt) )\n"
      ],
      "metadata": {
        "colab": {
          "base_uri": "https://localhost:8080/"
        },
        "id": "tj1n_reKuk6N",
        "outputId": "d568ccc7-da00-48ca-a9bb-dcf4645e07dd"
      },
      "execution_count": null,
      "outputs": [
        {
          "output_type": "stream",
          "name": "stdout",
          "text": [
            "x optimum: 2.0\n",
            "y optimum: 6.0\n",
            "A optimum: 3.0\n",
            "B optimum: 0.0\n",
            "C optimum: 3.0\n",
            "maximum perimeter of the traingle: 6.0\n"
          ]
        }
      ]
    }
  ]
}